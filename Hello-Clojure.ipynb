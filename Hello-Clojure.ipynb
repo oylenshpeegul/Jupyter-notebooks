{
 "cells": [
  {
   "cell_type": "markdown",
   "metadata": {},
   "source": [
    "# Hello from Clojure!\n",
    "\n",
    "This cell is markdown. The one below is Clojure."
   ]
  },
  {
   "cell_type": "code",
   "execution_count": 2,
   "metadata": {
    "collapsed": false
   },
   "outputs": [
    {
     "name": "stdout",
     "output_type": "stream",
     "text": [
      "Hello, Jupyter!\n"
     ]
    }
   ],
   "source": [
    "(println \"Hello, Jupyter!\")"
   ]
  },
  {
   "cell_type": "markdown",
   "metadata": {},
   "source": [
    "# Do magic commands work? Nope."
   ]
  },
  {
   "cell_type": "code",
   "execution_count": 1,
   "metadata": {
    "collapsed": false
   },
   "outputs": [
    {
     "name": "stdout",
     "output_type": "stream",
     "text": [
      "CompilerException java.lang.RuntimeException: Unable to resolve symbol: !ls in this context, compiling:(/tmp/form-init6121067478308195030.clj:1:310) \n"
     ]
    },
    {
     "ename": "class clojure.lang.Compiler$CompilerException",
     "evalue": "",
     "output_type": "error",
     "traceback": [
      "              Util.java:   221 clojure.lang.Util/runtimeException                     ",
      "               core.clj:  3105 clojure.core$eval/invokeStatic                         ",
      "               core.clj:  3101 clojure.core$eval/invoke                               ",
      "               main.clj:   240 clojure.main$repl$read_eval_print__7408$fn__7411/invoke",
      "               main.clj:   258 clojure.main$repl$fn__7417/invoke                      ",
      "               main.clj:   174 clojure.main$repl/doInvoke                             ",
      "            RestFn.java:  1523 clojure.lang.RestFn/invoke                             ",
      "               AFn.java:   152 clojure.lang.AFn/applyToHelper                         ",
      "               AFn.java:   144 clojure.lang.AFn/applyTo                               ",
      "               core.clj:   646 clojure.core$apply/invokeStatic                        ",
      "               core.clj:  1881 clojure.core$with_bindings_STAR_/invokeStatic          ",
      "            RestFn.java:   425 clojure.lang.RestFn/invoke                             ",
      "               AFn.java:    22 clojure.lang.AFn/run                                   ",
      "ThreadPoolExecutor.java:  1149 java.util.concurrent.ThreadPoolExecutor/runWorker      ",
      "ThreadPoolExecutor.java:   624 java.util.concurrent.ThreadPoolExecutor$Worker/run     ",
      "            Thread.java:   748 java.lang.Thread/run                                   "
     ]
    }
   ],
   "source": [
    "!ls"
   ]
  }
 ],
 "metadata": {
  "kernelspec": {
   "display_name": "Lein-Clojure",
   "language": "clojure",
   "name": "lein-clojure"
  },
  "language_info": {
   "file_extension": ".clj",
   "mimetype": "text/x-clojure",
   "name": "clojure",
   "version": "1.8.0"
  }
 },
 "nbformat": 4,
 "nbformat_minor": 2
}
